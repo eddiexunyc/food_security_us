{
 "cells": [
  {
   "cell_type": "markdown",
   "metadata": {},
   "source": [
    "# Story 6 : What Is The State of Food Security and Nutrition in the US\n",
    "\n",
    "The United Nations Food and Agriculture Organization publication, The State of Food Security and Nutrition in the World 2022 (https://www.fao.org/documents/card/en/c/cc0639en) might lead one to the conclusion that it's an elsewhere problem. That the people who are suffering malnutrition and starvation are \"elsewhere\", not in our backyard. For this assignment you will need to take a closer look here at home (the US). Are US children suffering these plights?\n",
    "\n",
    "Notes:\n",
    "\n",
    "You may use ANY graphical package that you find useful including PowerBI, Tableau, etc.\n",
    "You will need to locate and source data that reflects food security and nutrition by state broken down by men, women, children and by age groups.\n",
    "Your analysis should demonstrate correlations that exist between level of poverty and food insecurity, malnutrition and starvation.\n",
    "Your data and analysis should also indicate what happens to the children as they mature into adults. Will they become fully functional citizens or will they require continued support?\n",
    "Your data visualizations need to tell the story for a U.S. Senator that you were lobbying to address the issue of food insecurity in the US.\n",
    "\n",
    "- https://www.census.gov/data/datasets/time-series/demo/cps/cps-supp_cps-repwgt/cps-food-security.html#cpssupps \n",
    "- https://www.ers.usda.gov/data-products/food-security-in-the-united-states/"
   ]
  },
  {
   "cell_type": "code",
   "execution_count": 2,
   "metadata": {},
   "outputs": [],
   "source": [
    "# load packages\n",
    "import matplotlib.pyplot as plt\n",
    "import numpy as np\n",
    "import pandas as pd\n",
    "import matplotlib.pyplot as plt\n",
    "from matplotlib.gridspec import GridSpec, GridSpecFromSubplotSpec\n",
    "import pandas as pd\n",
    "import geopandas as gpd\n",
    "import matplotlib.pyplot as plt\n",
    "from mpl_toolkits.axes_grid1.inset_locator import inset_axes"
   ]
  }
 ],
 "metadata": {
  "kernelspec": {
   "display_name": "base",
   "language": "python",
   "name": "python3"
  },
  "language_info": {
   "codemirror_mode": {
    "name": "ipython",
    "version": 3
   },
   "file_extension": ".py",
   "mimetype": "text/x-python",
   "name": "python",
   "nbconvert_exporter": "python",
   "pygments_lexer": "ipython3",
   "version": "3.9.13"
  }
 },
 "nbformat": 4,
 "nbformat_minor": 2
}
